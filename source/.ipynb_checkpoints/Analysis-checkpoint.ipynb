{
 "cells": [
  {
   "cell_type": "code",
   "execution_count": null,
   "metadata": {},
   "outputs": [],
   "source": [
    "from cleansing import get_integrated_db, read_table_from_db\n",
    "\n",
    "def all_data_frames(fancy_db):\n",
    "    days = read_table_from_db(fancy_db, \"days\")\n",
    "    delays = read_table_from_db(fancy_db, \"delays\")\n",
    "    snapshots = read_table_from_db(fancy_db, \"snapshot\")\n",
    "    candidate_trains = read_table_from_db(fancy_db, \"candidate_trains\")\n",
    "    weather = read_table_from_db(fancy_db, \"weather\")\n",
    "    return days, delays, snapshots, candidate_trains, weather\n",
    "\n",
    "days, delays, snapshots, candidate_trains, weather = get_integrated_db(all_data_frames)"
   ]
  },
  {
   "cell_type": "code",
   "execution_count": null,
   "metadata": {},
   "outputs": [],
   "source": [
    "import datetime\n",
    "import numpy as np\n",
    "import pandas as pd\n",
    "\n",
    "weather[\"date\"] = pd.to_datetime(weather[\"at_time\"]).apply(lambda row: row.date())\n",
    "weather[\"time\"] = pd.to_datetime(weather[\"at_time\"]).apply(lambda row: row.time())\n",
    "days.day = pd.to_datetime(days.day)\n",
    "\n",
    "def on_point(hour, df):\n",
    "    weather_on_point = weather[weather[\"time\"] == datetime.time(hour, 0)].drop(columns=[\"at_time\", \"id\", \"time\"])\n",
    "    weather_on_point[\"date\"] = pd.to_datetime(weather_on_point[\"date\"])\n",
    "    df.day = pd.to_datetime(df.day)\n",
    "    df = pd.merge(left=df, right=weather_on_point, left_on='day', right_on='date')\n",
    "    fancy_string = str(hour) + \"00\"\n",
    "    if len(fancy_string) == 3:\n",
    "        fancy_string = \"0\" + fancy_string\n",
    "    df = df.drop(columns=[\"date\"]).rename(columns={\n",
    "        \"temperature\": \"temp-\" + fancy_string,\n",
    "        \"condition\": \"cond-\" + fancy_string\n",
    "    })\n",
    "    return df\n",
    "\n",
    "def changed(from_hour, to_hour, df):\n",
    "    w_from_hour = weather[weather[\"time\"] == datetime.time(from_hour, 0)].drop(columns=[\"at_time\", \"id\", \"time\"])\n",
    "    w_from_hour[\"date\"] = pd.to_datetime(w_from_hour[\"date\"])\n",
    "    w_to_hour = weather[weather[\"time\"] == datetime.time(to_hour, 0)].drop(columns=[\"at_time\", \"id\", \"time\"])\n",
    "    w_to_hour[\"date\"] = pd.to_datetime(w_to_hour[\"date\"])\n",
    "    col_string = \"{}-{}\".format(from_hour, to_hour)\n",
    "    \n",
    "    def do_something(row):\n",
    "        first = w_from_hour[w_from_hour.date == row[\"day\"]].iloc[0].condition\n",
    "        second = w_to_hour[w_to_hour.date == row[\"day\"]].iloc[0].condition\n",
    "        return first == second\n",
    "    \n",
    "    df[colstring] = df.apply(do_something)\n",
    "    return df\n",
    "\n",
    "days = days.drop(columns=[\"delay\", \"vehicle\"])\n",
    "for i in range(0, 9):\n",
    "    days = on_point(i, days)\n"
   ]
  },
  {
   "cell_type": "code",
   "execution_count": null,
   "metadata": {},
   "outputs": [],
   "source": [
    "# delays\n",
    "mean_last_seen = pd.to_datetime(days[\"last_seen\"]).mean()\n",
    "min_last_seen = pd.to_datetime(days[\"last_seen\"]).min()\n",
    "mean_first_seen = pd.to_datetime(days[\"first_seen\"]).mean()\n",
    "min_first_seen = pd.to_datetime(days[\"first_seen\"]).min()\n",
    "\n",
    "print(\"mean 1st_seen:\\t {}\".format(mean_first_seen.time()))\n",
    "print(\"mean last_seen:\\t {}\".format(mean_last_seen.time()))\n",
    "\n",
    "def calc_first_delay(row):\n",
    "    row_val = pd.to_datetime(row[\"first_seen\"])\n",
    "    if row_val > mean_first_seen:\n",
    "        return row_val - mean_first_seen\n",
    "    else:\n",
    "        return - (mean_first_seen - row_val)\n",
    "    \n",
    "def calc_last_delay(row):\n",
    "    row_val = pd.to_datetime(row[\"last_seen\"])\n",
    "    if row_val > mean_last_seen:\n",
    "        return row_val - mean_last_seen\n",
    "    else:\n",
    "        return - (mean_last_seen - row_val)\n",
    "    \n",
    "def calc_abs_first(row):\n",
    "    row_val = pd.to_datetime(row[\"first_seen\"])   \n",
    "    if row_val > min_first_seen:\n",
    "        return row_val - min_first_seen\n",
    "    else:\n",
    "        return - (min_first_seen - row_val)\n",
    "    \n",
    "def calc_abs_last(row):\n",
    "    row_val = pd.to_datetime(row[\"last_seen\"])\n",
    "    if row_val > min_last_seen:\n",
    "        return row_val - min_last_seen\n",
    "    else:\n",
    "        return - (min_last_seen - row_val)\n",
    "    \n",
    "    \n",
    "days[\"mean_first_delay\"] = days.apply(calc_first_delay, axis=1).astype('timedelta64[m]')\n",
    "days[\"mean_last_delay\"] = days.apply(calc_last_delay, axis=1).astype('timedelta64[m]') - 1\n",
    "days[\"abs_first_delay\"] = days.apply(calc_abs_first, axis=1).astype('timedelta64[m]')\n",
    "days[\"abs_last_delay\"] = days.apply(calc_abs_last, axis=1).astype('timedelta64[m]')\n"
   ]
  },
  {
   "cell_type": "code",
   "execution_count": null,
   "metadata": {},
   "outputs": [],
   "source": [
    "def columns_starting_with(string):\n",
    "    return days[[\"day\", \"first_seen\", \"last_seen\"] + [col for col in list(days.columns) if col.startswith(string)]]\n",
    "\n",
    "days_conditions = columns_starting_with(\"cond\")\n",
    "days_temperaturs = columns_starting_with(\"temp\")"
   ]
  },
  {
   "cell_type": "code",
   "execution_count": null,
   "metadata": {},
   "outputs": [],
   "source": [
    "days"
   ]
  },
  {
   "cell_type": "code",
   "execution_count": null,
   "metadata": {},
   "outputs": [],
   "source": [
    "days_conditions"
   ]
  },
  {
   "cell_type": "code",
   "execution_count": null,
   "metadata": {
    "scrolled": true
   },
   "outputs": [],
   "source": [
    "days_temperaturs"
   ]
  },
  {
   "cell_type": "code",
   "execution_count": null,
   "metadata": {},
   "outputs": [],
   "source": [
    "days.to_csv(\"days.csv\", sep=\";\", decimal=\",\")"
   ]
  }
 ],
 "metadata": {
  "kernelspec": {
   "display_name": "Python 3",
   "language": "python",
   "name": "python3"
  },
  "language_info": {
   "codemirror_mode": {
    "name": "ipython",
    "version": 3
   },
   "file_extension": ".py",
   "mimetype": "text/x-python",
   "name": "python",
   "nbconvert_exporter": "python",
   "pygments_lexer": "ipython3",
   "version": "3.7.4"
  }
 },
 "nbformat": 4,
 "nbformat_minor": 2
}
